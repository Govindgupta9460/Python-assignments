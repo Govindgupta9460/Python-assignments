{
 "cells": [
  {
   "cell_type": "code",
   "execution_count": 1,
   "id": "dadba174-9b36-4d92-9a14-6e6bcec71ff9",
   "metadata": {},
   "outputs": [
    {
     "name": "stdout",
     "output_type": "stream",
     "text": [
      "the sum of numbers from 1 to 50 is : 1\n",
      "the sum of numbers from 1 to 50 is : 3\n",
      "the sum of numbers from 1 to 50 is : 6\n",
      "the sum of numbers from 1 to 50 is : 10\n",
      "the sum of numbers from 1 to 50 is : 15\n",
      "the sum of numbers from 1 to 50 is : 21\n",
      "the sum of numbers from 1 to 50 is : 28\n",
      "the sum of numbers from 1 to 50 is : 36\n",
      "the sum of numbers from 1 to 50 is : 45\n",
      "the sum of numbers from 1 to 50 is : 55\n",
      "the sum of numbers from 1 to 50 is : 66\n",
      "the sum of numbers from 1 to 50 is : 78\n",
      "the sum of numbers from 1 to 50 is : 91\n",
      "the sum of numbers from 1 to 50 is : 105\n",
      "the sum of numbers from 1 to 50 is : 120\n",
      "the sum of numbers from 1 to 50 is : 136\n",
      "the sum of numbers from 1 to 50 is : 153\n",
      "the sum of numbers from 1 to 50 is : 171\n",
      "the sum of numbers from 1 to 50 is : 190\n",
      "the sum of numbers from 1 to 50 is : 210\n",
      "the sum of numbers from 1 to 50 is : 231\n",
      "the sum of numbers from 1 to 50 is : 253\n",
      "the sum of numbers from 1 to 50 is : 276\n",
      "the sum of numbers from 1 to 50 is : 300\n",
      "the sum of numbers from 1 to 50 is : 325\n",
      "the sum of numbers from 1 to 50 is : 351\n",
      "the sum of numbers from 1 to 50 is : 378\n",
      "the sum of numbers from 1 to 50 is : 406\n",
      "the sum of numbers from 1 to 50 is : 435\n",
      "the sum of numbers from 1 to 50 is : 465\n",
      "the sum of numbers from 1 to 50 is : 496\n",
      "the sum of numbers from 1 to 50 is : 528\n",
      "the sum of numbers from 1 to 50 is : 561\n",
      "the sum of numbers from 1 to 50 is : 595\n",
      "the sum of numbers from 1 to 50 is : 630\n",
      "the sum of numbers from 1 to 50 is : 666\n",
      "the sum of numbers from 1 to 50 is : 703\n",
      "the sum of numbers from 1 to 50 is : 741\n",
      "the sum of numbers from 1 to 50 is : 780\n",
      "the sum of numbers from 1 to 50 is : 820\n",
      "the sum of numbers from 1 to 50 is : 861\n",
      "the sum of numbers from 1 to 50 is : 903\n",
      "the sum of numbers from 1 to 50 is : 946\n",
      "the sum of numbers from 1 to 50 is : 990\n",
      "the sum of numbers from 1 to 50 is : 1035\n",
      "the sum of numbers from 1 to 50 is : 1081\n",
      "the sum of numbers from 1 to 50 is : 1128\n",
      "the sum of numbers from 1 to 50 is : 1176\n",
      "the sum of numbers from 1 to 50 is : 1225\n",
      "the sum of numbers from 1 to 50 is : 1275\n",
      "the total sum of numbers from 1 to 50 is : 1275\n"
     ]
    }
   ],
   "source": [
    "#in this we create a program to display the final sum of numbersin this range from 1 to 50 using for loop\n",
    "# firstly we declare a sum variable and initialize with zero\n",
    "sum = 0 #create sum variable equal to zero\n",
    "for x in range(1,51): #using for loop or using range function\n",
    "   sum += x # add the range of numbers of x with sum to get print the desire sum\n",
    "   print(\"the sum of numbers from 1 to 50 is :\", sum) # here it calculates the number by number sum \n",
    "   if(sum == 1275): # by using if statement or printinf the final sum\n",
    "      print(\"the total sum of numbers from 1 to 50 is :\", sum) # here is the final sum\n",
    "# here our desirable output becomes\n"
   ]
  },
  {
   "cell_type": "code",
   "execution_count": 5,
   "id": "635d3715-aec7-4c35-a7f4-c4575ffd5622",
   "metadata": {},
   "outputs": [
    {
     "name": "stdin",
     "output_type": "stream",
     "text": [
      "enter the number : 4\n"
     ]
    },
    {
     "name": "stdout",
     "output_type": "stream",
     "text": [
      "the number is even : 4\n"
     ]
    }
   ],
   "source": [
    "# write a program to take integer number as input and check which number is even or odd\n",
    "num = int(input(\"enter the number :\")) # take num as input from user\n",
    "if (num%2 == 0): #this is the condition of even or odd where by checking using if else statement\n",
    "    print(\"the number is even :\", num) # 1ST condition the given number is even\n",
    "else:\n",
    "    print(\"the number is odd :\", num)  # 2ND condition the given number is odd\n",
    "# here is our desirable output"
   ]
  },
  {
   "cell_type": "code",
   "execution_count": null,
   "id": "615f51a3-89cd-4ab5-b83f-e5b7ba331ace",
   "metadata": {},
   "outputs": [],
   "source": []
  }
 ],
 "metadata": {
  "kernelspec": {
   "display_name": "Python [conda env:base] *",
   "language": "python",
   "name": "conda-base-py"
  },
  "language_info": {
   "codemirror_mode": {
    "name": "ipython",
    "version": 3
   },
   "file_extension": ".py",
   "mimetype": "text/x-python",
   "name": "python",
   "nbconvert_exporter": "python",
   "pygments_lexer": "ipython3",
   "version": "3.12.7"
  }
 },
 "nbformat": 4,
 "nbformat_minor": 5
}
