{
 "cells": [
  {
   "cell_type": "code",
   "execution_count": 5,
   "id": "63ba0983-b07e-4538-b124-5443f3641951",
   "metadata": {},
   "outputs": [
    {
     "name": "stdout",
     "output_type": "stream",
     "text": [
      "hello world\n"
     ]
    }
   ],
   "source": [
    "# we print the statement hell oworld\n",
    "print(\"hello world\")"
   ]
  },
  {
   "cell_type": "code",
   "execution_count": 3,
   "id": "980c70dc-e9ec-4fac-9455-6a5efa8ac40b",
   "metadata": {},
   "outputs": [
    {
     "name": "stdin",
     "output_type": "stream",
     "text": [
      "enter first number : 20\n",
      "enter second number : 60\n"
     ]
    },
    {
     "name": "stdout",
     "output_type": "stream",
     "text": [
      "the addition is : 80\n",
      "the substraction is: -40\n",
      "the multiplication is: 1200\n",
      "the division is: 0.3333333333333333\n"
     ]
    }
   ],
   "source": [
    "#write a program to take two number as input and show basic mathematical operations\n",
    "#addition,substraction,multiplication.division.\n",
    "a = input(\"enter first number :\") #take first number as input\n",
    "a = int(a)\n",
    "b = input(\"enter second number :\") #take second number as input\n",
    "b = int(b)\n",
    "print(\"the addition is :\", a+b)   #preform all mathematical operations: addition,substraction\n",
    "print(\"the substraction is:\", a-b) # multiplication division\n",
    "print(\"the multiplication is:\", a*b)\n",
    "print(\"the division is:\", a/b)\n",
    "#here is the output of the program."
   ]
  },
  {
   "cell_type": "code",
   "execution_count": 7,
   "id": "216c4726-4b8c-43c4-ba28-1677d99136f4",
   "metadata": {},
   "outputs": [
    {
     "name": "stdin",
     "output_type": "stream",
     "text": [
      "enter first name : GOVIND\n",
      "enter last name : GUPTA\n"
     ]
    },
    {
     "name": "stdout",
     "output_type": "stream",
     "text": [
      "Hello,  GOVINDGUPTA Welcome to the Python Program\n"
     ]
    }
   ],
   "source": [
    "#write a program to\n",
    "#1: to take first and lastname as input\n",
    "#2: concetenates the firstname and lastname into a full name.\n",
    "#print the personalized greeting message for the program.\n",
    "firstname = input(\"enter first name :\") #take firstname as input\n",
    "lastname = input(\"enter last name :\")  #take lastname as input\n",
    "print(\"Hello, \", firstname+lastname,\"Welcome to the Python Program\") #here we concatenates and display full name with hello and greeting message.\n",
    "#here is the output of the program \n"
   ]
  },
  {
   "cell_type": "code",
   "execution_count": null,
   "id": "9b3b9f75-ae25-42d5-822f-01694fc5346f",
   "metadata": {},
   "outputs": [],
   "source": []
  }
 ],
 "metadata": {
  "kernelspec": {
   "display_name": "Python [conda env:base] *",
   "language": "python",
   "name": "conda-base-py"
  },
  "language_info": {
   "codemirror_mode": {
    "name": "ipython",
    "version": 3
   },
   "file_extension": ".py",
   "mimetype": "text/x-python",
   "name": "python",
   "nbconvert_exporter": "python",
   "pygments_lexer": "ipython3",
   "version": "3.12.7"
  }
 },
 "nbformat": 4,
 "nbformat_minor": 5
}
