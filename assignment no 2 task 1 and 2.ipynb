{
 "cells": [
  {
   "cell_type": "code",
   "execution_count": 7,
   "id": "4344b392-0897-406e-a5ca-f8aa872a547f",
   "metadata": {},
   "outputs": [
    {
     "name": "stdin",
     "output_type": "stream",
     "text": [
      "enter the number : 7\n"
     ]
    },
    {
     "name": "stdout",
     "output_type": "stream",
     "text": [
      "it is an odd number: 7\n"
     ]
    }
   ],
   "source": [
    "# write a program to take a number as input and check it is even or odd.\n",
    "# here e take integer num as input\n",
    "num = int(input(\"enter the number :\")) \n",
    "if(num%2==0):#this is the condition of even or odd\n",
    "    print(\"it is an even number :\",num)\n",
    "else:\n",
    "    print(\"it is an odd number:\",num)\n",
    "#here is the output becomes"
   ]
  },
  {
   "cell_type": "code",
   "execution_count": 5,
   "id": "c436d1c6-d445-471a-88f8-b55f69f984ea",
   "metadata": {},
   "outputs": [
    {
     "name": "stdin",
     "output_type": "stream",
     "text": [
      "enter the number : 4\n"
     ]
    },
    {
     "name": "stdout",
     "output_type": "stream",
     "text": [
      "it is an even number : 4\n"
     ]
    }
   ],
   "source": [
    "# write a program to take a number as input and check it is even or odd.\n",
    "# here e take integer num as input\n",
    "num = int(input(\"enter the number :\")) \n",
    "if(num%2==0):#this is the condition of even or odd\n",
    "    print(\"it is an even number :\",num)\n",
    "else:\n",
    "    print(\"it is an odd number\",num)\n",
    "#here is the output becomes"
   ]
  },
  {
   "cell_type": "code",
   "execution_count": 11,
   "id": "06cdb704-4efe-4926-be1b-97694e23f1bd",
   "metadata": {},
   "outputs": [
    {
     "name": "stdout",
     "output_type": "stream",
     "text": [
      "the sum of numbers from 1 to 50 is : 1\n",
      "the sum of numbers from 1 to 50 is : 3\n",
      "the sum of numbers from 1 to 50 is : 6\n",
      "the sum of numbers from 1 to 50 is : 10\n",
      "the sum of numbers from 1 to 50 is : 15\n",
      "the sum of numbers from 1 to 50 is : 21\n",
      "the sum of numbers from 1 to 50 is : 28\n",
      "the sum of numbers from 1 to 50 is : 36\n",
      "the sum of numbers from 1 to 50 is : 45\n",
      "the sum of numbers from 1 to 50 is : 55\n",
      "the sum of numbers from 1 to 50 is : 66\n",
      "the sum of numbers from 1 to 50 is : 78\n",
      "the sum of numbers from 1 to 50 is : 91\n",
      "the sum of numbers from 1 to 50 is : 105\n",
      "the sum of numbers from 1 to 50 is : 120\n",
      "the sum of numbers from 1 to 50 is : 136\n",
      "the sum of numbers from 1 to 50 is : 153\n",
      "the sum of numbers from 1 to 50 is : 171\n",
      "the sum of numbers from 1 to 50 is : 190\n",
      "the sum of numbers from 1 to 50 is : 210\n",
      "the sum of numbers from 1 to 50 is : 231\n",
      "the sum of numbers from 1 to 50 is : 253\n",
      "the sum of numbers from 1 to 50 is : 276\n",
      "the sum of numbers from 1 to 50 is : 300\n",
      "the sum of numbers from 1 to 50 is : 325\n",
      "the sum of numbers from 1 to 50 is : 351\n",
      "the sum of numbers from 1 to 50 is : 378\n",
      "the sum of numbers from 1 to 50 is : 406\n",
      "the sum of numbers from 1 to 50 is : 435\n",
      "the sum of numbers from 1 to 50 is : 465\n",
      "the sum of numbers from 1 to 50 is : 496\n",
      "the sum of numbers from 1 to 50 is : 528\n",
      "the sum of numbers from 1 to 50 is : 561\n",
      "the sum of numbers from 1 to 50 is : 595\n",
      "the sum of numbers from 1 to 50 is : 630\n",
      "the sum of numbers from 1 to 50 is : 666\n",
      "the sum of numbers from 1 to 50 is : 703\n",
      "the sum of numbers from 1 to 50 is : 741\n",
      "the sum of numbers from 1 to 50 is : 780\n",
      "the sum of numbers from 1 to 50 is : 820\n",
      "the sum of numbers from 1 to 50 is : 861\n",
      "the sum of numbers from 1 to 50 is : 903\n",
      "the sum of numbers from 1 to 50 is : 946\n",
      "the sum of numbers from 1 to 50 is : 990\n",
      "the sum of numbers from 1 to 50 is : 1035\n",
      "the sum of numbers from 1 to 50 is : 1081\n",
      "the sum of numbers from 1 to 50 is : 1128\n",
      "the sum of numbers from 1 to 50 is : 1176\n",
      "the sum of numbers from 1 to 50 is : 1225\n",
      "the sum of numbers from 1 to 50 is : 1275\n",
      "the total sum of 1 to 50 numbers is : 1275\n"
     ]
    }
   ],
   "source": [
    "#write a program to print the sum of numbers from 1 to 50.\n",
    "# let us we create sum variable and it is equal too zero\n",
    "sum = 0\n",
    "for x in range(1,51): # we are using for loop with using range function\n",
    "    sum += x #we add the value of x with sum to get the total sum\n",
    "    print(\"the sum of numbers from 1 to 50 is :\",sum) \n",
    "if (sum == 1275):\n",
    "    print(\"the total sum of 1 to 50 numbers is :\", sum) # here is the total sum\n",
    "#here is the output look like"
   ]
  },
  {
   "cell_type": "code",
   "execution_count": null,
   "id": "be7e7d60-87ee-413f-b669-039ccea0c00e",
   "metadata": {},
   "outputs": [],
   "source": []
  }
 ],
 "metadata": {
  "kernelspec": {
   "display_name": "Python [conda env:base] *",
   "language": "python",
   "name": "conda-base-py"
  },
  "language_info": {
   "codemirror_mode": {
    "name": "ipython",
    "version": 3
   },
   "file_extension": ".py",
   "mimetype": "text/x-python",
   "name": "python",
   "nbconvert_exporter": "python",
   "pygments_lexer": "ipython3",
   "version": "3.12.7"
  }
 },
 "nbformat": 4,
 "nbformat_minor": 5
}
